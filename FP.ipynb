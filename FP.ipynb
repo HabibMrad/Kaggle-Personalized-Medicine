{
 "cells": [
  {
   "cell_type": "code",
   "execution_count": null,
   "metadata": {},
   "outputs": [],
   "source": [
    "import os\n",
    "import sys\n",
    "import math\n",
    "import pandas as pd\n",
    "from collections import Counter\n",
    "\n",
    "mypath = './msk-redefining-cancer-treatment/'"
   ]
  },
  {
   "cell_type": "code",
   "execution_count": null,
   "metadata": {},
   "outputs": [],
   "source": []
  },
  {
   "cell_type": "code",
   "execution_count": null,
   "metadata": {},
   "outputs": [],
   "source": [
    "train_variants_df = pd.read_csv(mypath+\"training_variants\")\n",
    "test_variants_df = pd.read_csv(mypath+\"test_variants\")\n",
    "train_text_df = pd.read_csv(mypath+\"training_text\", sep=\"\\|\\|\", engine=\"python\", skiprows=1, names=[\"ID\", \"Text\"])\n",
    "test_text_df = pd.read_csv(mypath+\"test_text\", sep=\"\\|\\|\", engine=\"python\", skiprows=1, names=[\"ID\", \"Text\"])\n",
    "\n",
    "train_full_df = train_variants_df.merge(train_text_df, how=\"inner\", left_on=\"ID\", right_on=\"ID\")\n",
    "\n",
    "train_full_df = train_full_df.dropna()"
   ]
  },
  {
   "cell_type": "code",
   "execution_count": null,
   "metadata": {},
   "outputs": [],
   "source": [
    "c = Counter()\n",
    "\n",
    "def do_thing(x):\n",
    "    if isinstance(x, float):\n",
    "        print('float')\n",
    "        print(x)\n",
    "        return(0)\n",
    "    x = x.split()\n",
    "    c.update(x)\n",
    "    return len(x)\n",
    "train_full_df.loc[:, 'Text_count']  = train_full_df[\"Text\"].apply(lambda x: do_thing(x))\n",
    "train_full_df.head()"
   ]
  },
  {
   "cell_type": "code",
   "execution_count": null,
   "metadata": {},
   "outputs": [],
   "source": [
    "#for x in c.most_common():\n",
    "#    print(x)"
   ]
  },
  {
   "cell_type": "code",
   "execution_count": null,
   "metadata": {},
   "outputs": [],
   "source": [
    "c['chondrodysplasia.']"
   ]
  },
  {
   "cell_type": "code",
   "execution_count": null,
   "metadata": {},
   "outputs": [],
   "source": [
    "def find_uniq(words):\n",
    "    res = []\n",
    "    for x in words.split():\n",
    "        if c[x] == 1:\n",
    "            res.append(x)\n",
    "    return res\n",
    "train_full_df.loc[:, 'Unique_words']  = train_full_df[\"Text\"].apply(lambda words: find_uniq(words))\n",
    "\n",
    "def find_uniq_count(words):\n",
    "    #res = []\n",
    "    #for x in words:\n",
    "    #    if c[x] == 1:\n",
    "    #       res.append(x)\n",
    "    return len(words)\n",
    "train_full_df.loc[:, 'Unique_words_count']  = train_full_df[\"Unique_words\"].apply(lambda words: find_uniq_count(words))\n",
    "\n",
    "train_full_df"
   ]
  },
  {
   "cell_type": "code",
   "execution_count": null,
   "metadata": {},
   "outputs": [],
   "source": [
    "train_full_df.loc[train_full_df['Unique_words_count'] > 0]"
   ]
  },
  {
   "cell_type": "code",
   "execution_count": null,
   "metadata": {},
   "outputs": [],
   "source": []
  }
 ],
 "metadata": {
  "kernelspec": {
   "display_name": "Python 3",
   "language": "python",
   "name": "python3"
  },
  "language_info": {
   "codemirror_mode": {
    "name": "ipython",
    "version": 3
   },
   "file_extension": ".py",
   "mimetype": "text/x-python",
   "name": "python",
   "nbconvert_exporter": "python",
   "pygments_lexer": "ipython3",
   "version": "3.6.7"
  }
 },
 "nbformat": 4,
 "nbformat_minor": 2
}
